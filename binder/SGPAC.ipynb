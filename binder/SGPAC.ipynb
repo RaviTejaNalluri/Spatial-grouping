{
 "cells": [
  {
   "cell_type": "code",
   "execution_count": 2,
   "id": "31d96376",
   "metadata": {},
   "outputs": [
    {
     "name": "stdout",
     "output_type": "stream",
     "text": [
      "Defaulting to user installation because normal site-packages is not writeable\n",
      "Requirement already satisfied: pyspark in /usr/lib/spark-3.3.1-bin-hadoop3/python (3.3.1)\n",
      "Collecting py4j==0.10.9.5 (from pyspark)\n",
      "  Using cached py4j-0.10.9.5-py2.py3-none-any.whl (199 kB)\n",
      "Installing collected packages: py4j\n",
      "  Attempting uninstall: py4j\n",
      "    Found existing installation: py4j 0.10.9\n",
      "    Uninstalling py4j-0.10.9:\n",
      "      Successfully uninstalled py4j-0.10.9\n",
      "Successfully installed py4j-0.10.9.5\n",
      "Defaulting to user installation because normal site-packages is not writeable\n",
      "Collecting pineapple-spark\n",
      "  Downloading pineapple-spark-1.1.0.tar.gz (59 kB)\n",
      "\u001b[2K     \u001b[38;2;114;156;31m━━━━━━━━━━━━━━━━━━━━━━━━━━━━━━━━━━━━━━━\u001b[0m \u001b[32m59.4/59.4 kB\u001b[0m \u001b[31m913.7 kB/s\u001b[0m eta \u001b[36m0:00:00\u001b[0m kB/s\u001b[0m eta \u001b[36m0:00:01\u001b[0m\n",
      "\u001b[?25h  Preparing metadata (setup.py) ... \u001b[?25ldone\n",
      "\u001b[?25hRequirement already satisfied: attrs in /home/laila/.local/lib/python3.10/site-packages (from pineapple-spark) (22.2.0)\n",
      "Requirement already satisfied: shapely>=1.7.0 in /usr/local/lib/python3.10/dist-packages (from pineapple-spark) (2.0.1)\n",
      "Requirement already satisfied: numpy>=1.14 in /usr/local/lib/python3.10/dist-packages (from shapely>=1.7.0->pineapple-spark) (1.24.2)\n",
      "Building wheels for collected packages: pineapple-spark\n",
      "  Building wheel for pineapple-spark (setup.py) ... \u001b[?25ldone\n",
      "\u001b[?25h  Created wheel for pineapple-spark: filename=pineapple_spark-1.1.0-cp310-cp310-linux_x86_64.whl size=142013 sha256=7a83a40243cff2c89ec3b3381abfa2cc92f51f79c5444d4abdddd14972102434\n",
      "  Stored in directory: /home/laila/.cache/pip/wheels/9d/0f/46/148550484af206e2325ae42fa95817ae41fbef2d6b1b1a9ecf\n",
      "Successfully built pineapple-spark\n",
      "Installing collected packages: pineapple-spark\n",
      "Successfully installed pineapple-spark-1.1.0\n"
     ]
    }
   ],
   "source": [
    "!pip install -q findspark\n",
    "!pip install pyspark\n",
    "!pip install pineapple-spark"
   ]
  },
  {
   "cell_type": "code",
   "execution_count": 3,
   "id": "c957ec4f",
   "metadata": {},
   "outputs": [
    {
     "name": "stdout",
     "output_type": "stream",
     "text": [
      "23/07/10 23:21:41 WARN Utils: Your hostname, laila resolves to a loopback address: 127.0.1.1; using 192.168.206.132 instead (on interface ens33)\n",
      "23/07/10 23:21:41 WARN Utils: Set SPARK_LOCAL_IP if you need to bind to another address\n",
      "23/07/10 23:21:43 WARN NativeCodeLoader: Unable to load native-hadoop library for your platform... using builtin-java classes where applicable\n"
     ]
    },
    {
     "name": "stderr",
     "output_type": "stream",
     "text": [
      "Setting default log level to \"WARN\".\n",
      "To adjust logging level use sc.setLogLevel(newLevel). For SparkR, use setLogLevel(newLevel).\n",
      "Error while parsing JAI registry file \"file:/usr/lib/spark-3.3.1-bin-hadoop3/jars/sedona-spark-shaded-3.0_2.12-1.4.1-SNAPSHOT.jar!/META-INF/registryFile.jai\" :\n",
      "Error in registry file at line number #31\n",
      "A descriptor is already registered against the name \"org.geotools.ColorReduction\" under registry mode \"rendered\"\n",
      "Error in registry file at line number #32\n",
      "A descriptor is already registered against the name \"org.geotools.ColorInversion\" under registry mode \"rendered\"\n"
     ]
    },
    {
     "data": {
      "text/plain": [
       "True"
      ]
     },
     "execution_count": 3,
     "metadata": {},
     "output_type": "execute_result"
    }
   ],
   "source": [
    "import findspark\n",
    "findspark.init()\n",
    "\n",
    "from pyspark.sql import SparkSession\n",
    "from sedona.register import SedonaRegistrator\n",
    "from sedona.utils import KryoSerializer, SedonaKryoRegistrator\n",
    "\n",
    "spark = SparkSession.builder.config(\"spark.jars\", \"data/pyneapple/sedona-spark-shaded-3.0_2.12-1.4.1-SNAPSHOT.jar\")\\\n",
    "                            .config(\"spark.serializer\", KryoSerializer.getName)\\\n",
    "                            .config(\"spark.kryo.registrator\", SedonaKryoRegistrator.getName)\\\n",
    "                            .master(\"local[*]\").getOrCreate()\n",
    "SedonaRegistrator.registerAll(spark)"
   ]
  },
  {
   "cell_type": "code",
   "execution_count": 4,
   "id": "318e65ff",
   "metadata": {},
   "outputs": [
    {
     "name": "stderr",
     "output_type": "stream",
     "text": [
      "                                                                                \r"
     ]
    }
   ],
   "source": [
    "from sedona.core.enums import FileDataSplitter, GridType, IndexType\n",
    "\n",
    "from sedona.core.formatMapper import WktReader\n",
    "\n",
    "from sedona.core.SpatialRDD import PointRDD\n",
    "from sedona.core.spatialOperator.sgpac_query import SGPACQuery\n",
    "\n",
    "\n",
    "data = PointRDD(spark.sparkContext, 'data/pyneapple/data1M.csv', 0, FileDataSplitter.CSV, True)\n",
    "data.analyze()\n",
    "data.spatialPartitioning(GridType.QUADTREE, 200)\n",
    "data.buildIndex(IndexType.RTREE, True)\n",
    "\n",
    "polygon_layer = WktReader.readToGeometryRDD(spark.sparkContext, 'data/pyneapple/ne_countries.csv', 0, False, True)\n",
    "polygon_layer.spatialPartitioning(data.getPartitioner())\n",
    "\n",
    "\n",
    "result = SGPACQuery.sgpac2L(data, polygon_layer).collectAsMap()"
   ]
  },
  {
   "cell_type": "code",
   "execution_count": 5,
   "id": "29b2385c",
   "metadata": {},
   "outputs": [
    {
     "name": "stderr",
     "output_type": "stream",
     "text": [
      "                                                                                \r"
     ]
    },
    {
     "name": "stdout",
     "output_type": "stream",
     "text": [
      "+------------------------+------+\n",
      "|polygon                 |count |\n",
      "+------------------------+------+\n",
      "|United States of America|166123|\n",
      "|Indonesia               |139264|\n",
      "|Turkey                  |76976 |\n",
      "|Brazil                  |74146 |\n",
      "|Japan                   |68231 |\n",
      "|Malaysia                |59453 |\n",
      "|Philippines             |39879 |\n",
      "|Thailand                |35572 |\n",
      "|Argentina               |33442 |\n",
      "|United Kingdom          |25195 |\n",
      "|Mexico                  |21671 |\n",
      "|Spain                   |18328 |\n",
      "|South Africa            |9110  |\n",
      "|France                  |8705  |\n",
      "|India                   |8434  |\n",
      "|Canada                  |8356  |\n",
      "|Chile                   |7793  |\n",
      "|Colombia                |7632  |\n",
      "|Kuwait                  |7372  |\n",
      "|Italy                   |7316  |\n",
      "+------------------------+------+\n",
      "only showing top 20 rows\n",
      "\n"
     ]
    }
   ],
   "source": [
    "from pyspark.sql.functions import col, desc\n",
    "df = spark.createDataFrame(list(result.items()), [\"polygon\", \"count\"])\n",
    "df.sort(col(\"count\").desc()).show(truncate=False)"
   ]
  },
  {
   "cell_type": "code",
   "execution_count": null,
   "id": "c427dc6c",
   "metadata": {},
   "outputs": [],
   "source": []
  }
 ],
 "metadata": {
  "kernelspec": {
   "display_name": "Python 3 (ipykernel)",
   "language": "python",
   "name": "python3"
  },
  "language_info": {
   "codemirror_mode": {
    "name": "ipython",
    "version": 3
   },
   "file_extension": ".py",
   "mimetype": "text/x-python",
   "name": "python",
   "nbconvert_exporter": "python",
   "pygments_lexer": "ipython3",
   "version": "3.10.6"
  }
 },
 "nbformat": 4,
 "nbformat_minor": 5
}
